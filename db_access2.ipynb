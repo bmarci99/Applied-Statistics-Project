{
 "cells": [
  {
   "cell_type": "markdown",
   "metadata": {},
   "source": [
    "!!!!! The ID and element columns need to be removed to match the professor's example dataframe."
   ]
  },
  {
   "cell_type": "markdown",
   "metadata": {},
   "source": [
    "# DB access without download it "
   ]
  },
  {
   "cell_type": "code",
   "execution_count": 7,
   "metadata": {},
   "outputs": [
    {
     "data": {
      "application/vnd.jupyter.widget-view+json": {
       "model_id": "faa59560a6f14074acd90f5cbc4608d6",
       "version_major": 2,
       "version_minor": 0
      },
      "text/plain": [
       "Downloading files:   0%|          | 0/365 [00:00<?, ?it/s]"
      ]
     },
     "metadata": {},
     "output_type": "display_data"
    },
    {
     "name": "stdout",
     "output_type": "stream",
     "text": [
      "Closing FTP connection\n"
     ]
    }
   ],
   "source": [
    "from ftplib import FTP\n",
    "import pandas as pd\n",
    "from tqdm.notebook import tqdm\n",
    "from io import BytesIO\n",
    "\n",
    "# credential and host settings\n",
    "ftp_host = 'download.mercatoelettrico.org'\n",
    "ftp_username = 'FABIOINZOLI'\n",
    "ftp_password = '12L16Z13'\n",
    "\n",
    "# FTP connection\n",
    "with FTP(ftp_host) as ftp:\n",
    "    ftp.login(ftp_username, ftp_password)  # login\n",
    "\n",
    "    # date range \n",
    "    start_date = pd.to_datetime('2023-01-01')\n",
    "    end_date = pd.to_datetime('2023-12-31')\n",
    "    date_range = pd.date_range(start=start_date, end=end_date)\n",
    "\n",
    "    df_list = []  # Lista per memorizzare i DataFrame\n",
    "\n",
    "    # iterate in range date \n",
    "    for date in tqdm(date_range, desc='Downloading files'):\n",
    "        date_str = date.strftime('%Y%m%d')\n",
    "        directory = '/MercatiElettrici/MGP_DomandaOfferta/'\n",
    "        file_name = f'{date_str}MGPDomandaOfferta.xml'\n",
    "        file_path = directory + file_name\n",
    "\n",
    "        # change directory\n",
    "        try:\n",
    "            ftp.cwd(directory)\n",
    "            if file_name in ftp.nlst():  # check\n",
    "                with BytesIO() as bio:\n",
    "                    ftp.retrbinary('RETR ' + file_name, bio.write)\n",
    "                    bio.seek(0)  # return to the beginning of the file\n",
    "                    df = pd.read_xml(bio)\n",
    "                    df_list.append(df)\n",
    "            else:\n",
    "                print(f\"{file_path} not found on FTP server\")\n",
    "        except Exception as e:\n",
    "            print(f\"Error accessing {file_path}: {e}\")\n",
    "\n",
    "        # return to the root directory\n",
    "        ftp.cwd('/')\n",
    "\n",
    "# concatenate all df in one \n",
    "ts_df = pd.concat(df_list, ignore_index=True)\n",
    "\n",
    "print(\"Closing FTP connection\")\n"
   ]
  },
  {
   "cell_type": "code",
   "execution_count": 8,
   "metadata": {},
   "outputs": [
    {
     "name": "stdout",
     "output_type": "stream",
     "text": [
      "<class 'pandas.core.frame.DataFrame'>\n",
      "RangeIndex: 2965864 entries, 0 to 2965863\n",
      "Data columns (total 10 columns):\n",
      " #   Column        Dtype  \n",
      "---  ------        -----  \n",
      " 0   id            object \n",
      " 1   element       object \n",
      " 2   Data          float64\n",
      " 3   Ora           float64\n",
      " 4   Mercato       object \n",
      " 5   ZonaMercato   object \n",
      " 6   PrezzoZonale  float64\n",
      " 7   Quantita      float64\n",
      " 8   Prezzo        float64\n",
      " 9   Tipo          object \n",
      "dtypes: float64(5), object(5)\n",
      "memory usage: 226.3+ MB\n"
     ]
    }
   ],
   "source": [
    "ts_df.info()\n"
   ]
  },
  {
   "cell_type": "code",
   "execution_count": 9,
   "metadata": {},
   "outputs": [
    {
     "data": {
      "text/html": [
       "<div>\n",
       "<style scoped>\n",
       "    .dataframe tbody tr th:only-of-type {\n",
       "        vertical-align: middle;\n",
       "    }\n",
       "\n",
       "    .dataframe tbody tr th {\n",
       "        vertical-align: top;\n",
       "    }\n",
       "\n",
       "    .dataframe thead th {\n",
       "        text-align: right;\n",
       "    }\n",
       "</style>\n",
       "<table border=\"1\" class=\"dataframe\">\n",
       "  <thead>\n",
       "    <tr style=\"text-align: right;\">\n",
       "      <th></th>\n",
       "      <th>id</th>\n",
       "      <th>element</th>\n",
       "      <th>Data</th>\n",
       "      <th>Ora</th>\n",
       "      <th>Mercato</th>\n",
       "      <th>ZonaMercato</th>\n",
       "      <th>PrezzoZonale</th>\n",
       "      <th>Quantita</th>\n",
       "      <th>Prezzo</th>\n",
       "      <th>Tipo</th>\n",
       "    </tr>\n",
       "  </thead>\n",
       "  <tbody>\n",
       "    <tr>\n",
       "      <th>0</th>\n",
       "      <td>NewDataSet</td>\n",
       "      <td>\\n</td>\n",
       "      <td>NaN</td>\n",
       "      <td>NaN</td>\n",
       "      <td>None</td>\n",
       "      <td>None</td>\n",
       "      <td>NaN</td>\n",
       "      <td>NaN</td>\n",
       "      <td>NaN</td>\n",
       "      <td>None</td>\n",
       "    </tr>\n",
       "    <tr>\n",
       "      <th>1</th>\n",
       "      <td>None</td>\n",
       "      <td>None</td>\n",
       "      <td>20230101.0</td>\n",
       "      <td>1.0</td>\n",
       "      <td>MGP</td>\n",
       "      <td>CALA;CNOR;CSUD;NORD;SARD;SICI;SUD;AUST;COAC;CO...</td>\n",
       "      <td>195.9</td>\n",
       "      <td>70000.000</td>\n",
       "      <td>4000.0</td>\n",
       "      <td>OFF</td>\n",
       "    </tr>\n",
       "    <tr>\n",
       "      <th>2</th>\n",
       "      <td>None</td>\n",
       "      <td>None</td>\n",
       "      <td>20230101.0</td>\n",
       "      <td>1.0</td>\n",
       "      <td>MGP</td>\n",
       "      <td>CALA;CNOR;CSUD;NORD;SARD;SICI;SUD;AUST;COAC;CO...</td>\n",
       "      <td>195.9</td>\n",
       "      <td>0.102</td>\n",
       "      <td>3000.0</td>\n",
       "      <td>OFF</td>\n",
       "    </tr>\n",
       "    <tr>\n",
       "      <th>3</th>\n",
       "      <td>None</td>\n",
       "      <td>None</td>\n",
       "      <td>20230101.0</td>\n",
       "      <td>1.0</td>\n",
       "      <td>MGP</td>\n",
       "      <td>CALA;CNOR;CSUD;NORD;SARD;SICI;SUD;AUST;COAC;CO...</td>\n",
       "      <td>195.9</td>\n",
       "      <td>20.001</td>\n",
       "      <td>800.0</td>\n",
       "      <td>OFF</td>\n",
       "    </tr>\n",
       "    <tr>\n",
       "      <th>4</th>\n",
       "      <td>None</td>\n",
       "      <td>None</td>\n",
       "      <td>20230101.0</td>\n",
       "      <td>1.0</td>\n",
       "      <td>MGP</td>\n",
       "      <td>CALA;CNOR;CSUD;NORD;SARD;SICI;SUD;AUST;COAC;CO...</td>\n",
       "      <td>195.9</td>\n",
       "      <td>7.530</td>\n",
       "      <td>700.0</td>\n",
       "      <td>OFF</td>\n",
       "    </tr>\n",
       "  </tbody>\n",
       "</table>\n",
       "</div>"
      ],
      "text/plain": [
       "           id   element        Data  Ora Mercato  \\\n",
       "0  NewDataSet  \\n               NaN  NaN    None   \n",
       "1        None      None  20230101.0  1.0     MGP   \n",
       "2        None      None  20230101.0  1.0     MGP   \n",
       "3        None      None  20230101.0  1.0     MGP   \n",
       "4        None      None  20230101.0  1.0     MGP   \n",
       "\n",
       "                                         ZonaMercato  PrezzoZonale   Quantita  \\\n",
       "0                                               None           NaN        NaN   \n",
       "1  CALA;CNOR;CSUD;NORD;SARD;SICI;SUD;AUST;COAC;CO...         195.9  70000.000   \n",
       "2  CALA;CNOR;CSUD;NORD;SARD;SICI;SUD;AUST;COAC;CO...         195.9      0.102   \n",
       "3  CALA;CNOR;CSUD;NORD;SARD;SICI;SUD;AUST;COAC;CO...         195.9     20.001   \n",
       "4  CALA;CNOR;CSUD;NORD;SARD;SICI;SUD;AUST;COAC;CO...         195.9      7.530   \n",
       "\n",
       "   Prezzo  Tipo  \n",
       "0     NaN  None  \n",
       "1  4000.0   OFF  \n",
       "2  3000.0   OFF  \n",
       "3   800.0   OFF  \n",
       "4   700.0   OFF  "
      ]
     },
     "execution_count": 9,
     "metadata": {},
     "output_type": "execute_result"
    }
   ],
   "source": [
    "ts_df.head()\n"
   ]
  },
  {
   "cell_type": "code",
   "execution_count": 10,
   "metadata": {},
   "outputs": [
    {
     "data": {
      "text/plain": [
       "Tipo\n",
       "OFF    1963855\n",
       "BID    1001644\n",
       "Name: count, dtype: int64"
      ]
     },
     "execution_count": 10,
     "metadata": {},
     "output_type": "execute_result"
    }
   ],
   "source": [
    "ts_df.Tipo.value_counts()"
   ]
  },
  {
   "cell_type": "code",
   "execution_count": 11,
   "metadata": {},
   "outputs": [],
   "source": [
    "ts_df.to_pickle('ts_df.pkl.gz', compression='gzip')"
   ]
  },
  {
   "cell_type": "code",
   "execution_count": null,
   "metadata": {},
   "outputs": [],
   "source": []
  }
 ],
 "metadata": {
  "kernelspec": {
   "display_name": "appliedstatistics",
   "language": "python",
   "name": "python3"
  },
  "language_info": {
   "codemirror_mode": {
    "name": "ipython",
    "version": 3
   },
   "file_extension": ".py",
   "mimetype": "text/x-python",
   "name": "python",
   "nbconvert_exporter": "python",
   "pygments_lexer": "ipython3",
   "version": "3.10.undefined"
  }
 },
 "nbformat": 4,
 "nbformat_minor": 2
}
