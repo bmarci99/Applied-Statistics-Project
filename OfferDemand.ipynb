{
 "cells": [
  {
   "cell_type": "code",
   "execution_count": 1,
   "metadata": {},
   "outputs": [],
   "source": [
    "import pandas as pd\n",
    "from tqdm.notebook import tqdm\n",
    "import os\n",
    "from os.path import join\n",
    "from datetime import datetime\n",
    "\n",
    "import plotly.express as px\n",
    "\n",
    "pd.options.mode.chained_assignment = None"
   ]
  },
  {
   "cell_type": "code",
   "execution_count": 2,
   "metadata": {},
   "outputs": [],
   "source": [
    "def format_prezzi(df):\n",
    "    df['Data'] = pd.to_datetime(df.Data.astype(str) + (df.Ora-1).astype(str), format='%Y%m%d%H')\n",
    "    df.drop(['Mercato', 'Ora'], axis=1, inplace=True)\n",
    "    for col in df.columns:\n",
    "        if col not in ['Data', 'Ora']:\n",
    "            df[col] = df[col].str.replace(',', '.').astype(float)\n"
   ]
  },
  {
   "cell_type": "code",
   "execution_count": 3,
   "metadata": {},
   "outputs": [],
   "source": [
    "market = 'MGP'\n",
    "dataset = 'DomandaOfferta'\n",
    "freq = 'daily'\n",
    "date_range = pd.date_range(start='2023-11-01', end='2023-11-30')"
   ]
  },
  {
   "cell_type": "code",
   "execution_count": 4,
   "metadata": {},
   "outputs": [
    {
     "data": {
      "application/vnd.jupyter.widget-view+json": {
       "model_id": "069054b668924dbfa2ed069a9a9be119",
       "version_major": 2,
       "version_minor": 0
      },
      "text/plain": [
       "  0%|          | 0/30 [00:00<?, ?it/s]"
      ]
     },
     "metadata": {},
     "output_type": "display_data"
    },
    {
     "data": {
      "text/html": [
       "<div>\n",
       "<style scoped>\n",
       "    .dataframe tbody tr th:only-of-type {\n",
       "        vertical-align: middle;\n",
       "    }\n",
       "\n",
       "    .dataframe tbody tr th {\n",
       "        vertical-align: top;\n",
       "    }\n",
       "\n",
       "    .dataframe thead th {\n",
       "        text-align: right;\n",
       "    }\n",
       "</style>\n",
       "<table border=\"1\" class=\"dataframe\">\n",
       "  <thead>\n",
       "    <tr style=\"text-align: right;\">\n",
       "      <th></th>\n",
       "      <th>Data</th>\n",
       "      <th>Ora</th>\n",
       "      <th>Mercato</th>\n",
       "      <th>ZonaMercato</th>\n",
       "      <th>PrezzoZonale</th>\n",
       "      <th>Quantita</th>\n",
       "      <th>Prezzo</th>\n",
       "      <th>Tipo</th>\n",
       "    </tr>\n",
       "  </thead>\n",
       "  <tbody>\n",
       "    <tr>\n",
       "      <th>0</th>\n",
       "      <td>20231101</td>\n",
       "      <td>1</td>\n",
       "      <td>MGP</td>\n",
       "      <td>CALA;CNOR;CSUD;NORD;SARD;SICI;SUD;AUST;COAC;CO...</td>\n",
       "      <td>64.97417</td>\n",
       "      <td>0.001</td>\n",
       "      <td>800.00</td>\n",
       "      <td>OFF</td>\n",
       "    </tr>\n",
       "    <tr>\n",
       "      <th>1</th>\n",
       "      <td>20231101</td>\n",
       "      <td>1</td>\n",
       "      <td>MGP</td>\n",
       "      <td>CALA;CNOR;CSUD;NORD;SARD;SICI;SUD;AUST;COAC;CO...</td>\n",
       "      <td>64.97417</td>\n",
       "      <td>7.500</td>\n",
       "      <td>700.00</td>\n",
       "      <td>OFF</td>\n",
       "    </tr>\n",
       "    <tr>\n",
       "      <th>2</th>\n",
       "      <td>20231101</td>\n",
       "      <td>1</td>\n",
       "      <td>MGP</td>\n",
       "      <td>CALA;CNOR;CSUD;NORD;SARD;SICI;SUD;AUST;COAC;CO...</td>\n",
       "      <td>64.97417</td>\n",
       "      <td>0.003</td>\n",
       "      <td>632.00</td>\n",
       "      <td>OFF</td>\n",
       "    </tr>\n",
       "    <tr>\n",
       "      <th>3</th>\n",
       "      <td>20231101</td>\n",
       "      <td>1</td>\n",
       "      <td>MGP</td>\n",
       "      <td>CALA;CNOR;CSUD;NORD;SARD;SICI;SUD;AUST;COAC;CO...</td>\n",
       "      <td>64.97417</td>\n",
       "      <td>62.750</td>\n",
       "      <td>499.00</td>\n",
       "      <td>OFF</td>\n",
       "    </tr>\n",
       "    <tr>\n",
       "      <th>4</th>\n",
       "      <td>20231101</td>\n",
       "      <td>1</td>\n",
       "      <td>MGP</td>\n",
       "      <td>CALA;CNOR;CSUD;NORD;SARD;SICI;SUD;AUST;COAC;CO...</td>\n",
       "      <td>64.97417</td>\n",
       "      <td>100.000</td>\n",
       "      <td>353.29</td>\n",
       "      <td>OFF</td>\n",
       "    </tr>\n",
       "    <tr>\n",
       "      <th>...</th>\n",
       "      <td>...</td>\n",
       "      <td>...</td>\n",
       "      <td>...</td>\n",
       "      <td>...</td>\n",
       "      <td>...</td>\n",
       "      <td>...</td>\n",
       "      <td>...</td>\n",
       "      <td>...</td>\n",
       "    </tr>\n",
       "    <tr>\n",
       "      <th>242502</th>\n",
       "      <td>20231130</td>\n",
       "      <td>24</td>\n",
       "      <td>MGP</td>\n",
       "      <td>CNOR;NORD;AUST;CORS;FRAN;SLOV;SVIZ;COUP;</td>\n",
       "      <td>115.61000</td>\n",
       "      <td>0.100</td>\n",
       "      <td>60.00</td>\n",
       "      <td>BID</td>\n",
       "    </tr>\n",
       "    <tr>\n",
       "      <th>242503</th>\n",
       "      <td>20231130</td>\n",
       "      <td>24</td>\n",
       "      <td>MGP</td>\n",
       "      <td>CNOR;NORD;AUST;CORS;FRAN;SLOV;SVIZ;COUP;</td>\n",
       "      <td>115.61000</td>\n",
       "      <td>4.900</td>\n",
       "      <td>11.00</td>\n",
       "      <td>BID</td>\n",
       "    </tr>\n",
       "    <tr>\n",
       "      <th>242504</th>\n",
       "      <td>20231130</td>\n",
       "      <td>24</td>\n",
       "      <td>MGP</td>\n",
       "      <td>CNOR;NORD;AUST;CORS;FRAN;SLOV;SVIZ;COUP;</td>\n",
       "      <td>115.61000</td>\n",
       "      <td>0.002</td>\n",
       "      <td>1.00</td>\n",
       "      <td>BID</td>\n",
       "    </tr>\n",
       "    <tr>\n",
       "      <th>242505</th>\n",
       "      <td>20231130</td>\n",
       "      <td>24</td>\n",
       "      <td>MGP</td>\n",
       "      <td>CNOR;NORD;AUST;CORS;FRAN;SLOV;SVIZ;COUP;</td>\n",
       "      <td>115.61000</td>\n",
       "      <td>1.911</td>\n",
       "      <td>0.00</td>\n",
       "      <td>BID</td>\n",
       "    </tr>\n",
       "    <tr>\n",
       "      <th>242506</th>\n",
       "      <td>20231130</td>\n",
       "      <td>24</td>\n",
       "      <td>MGP</td>\n",
       "      <td>CNOR;NORD;AUST;CORS;FRAN;SLOV;SVIZ;COUP;</td>\n",
       "      <td>115.61000</td>\n",
       "      <td>0.005</td>\n",
       "      <td>-499.00</td>\n",
       "      <td>BID</td>\n",
       "    </tr>\n",
       "  </tbody>\n",
       "</table>\n",
       "<p>242507 rows × 8 columns</p>\n",
       "</div>"
      ],
      "text/plain": [
       "            Data  Ora Mercato  \\\n",
       "0       20231101    1     MGP   \n",
       "1       20231101    1     MGP   \n",
       "2       20231101    1     MGP   \n",
       "3       20231101    1     MGP   \n",
       "4       20231101    1     MGP   \n",
       "...          ...  ...     ...   \n",
       "242502  20231130   24     MGP   \n",
       "242503  20231130   24     MGP   \n",
       "242504  20231130   24     MGP   \n",
       "242505  20231130   24     MGP   \n",
       "242506  20231130   24     MGP   \n",
       "\n",
       "                                              ZonaMercato  PrezzoZonale  \\\n",
       "0       CALA;CNOR;CSUD;NORD;SARD;SICI;SUD;AUST;COAC;CO...      64.97417   \n",
       "1       CALA;CNOR;CSUD;NORD;SARD;SICI;SUD;AUST;COAC;CO...      64.97417   \n",
       "2       CALA;CNOR;CSUD;NORD;SARD;SICI;SUD;AUST;COAC;CO...      64.97417   \n",
       "3       CALA;CNOR;CSUD;NORD;SARD;SICI;SUD;AUST;COAC;CO...      64.97417   \n",
       "4       CALA;CNOR;CSUD;NORD;SARD;SICI;SUD;AUST;COAC;CO...      64.97417   \n",
       "...                                                   ...           ...   \n",
       "242502           CNOR;NORD;AUST;CORS;FRAN;SLOV;SVIZ;COUP;     115.61000   \n",
       "242503           CNOR;NORD;AUST;CORS;FRAN;SLOV;SVIZ;COUP;     115.61000   \n",
       "242504           CNOR;NORD;AUST;CORS;FRAN;SLOV;SVIZ;COUP;     115.61000   \n",
       "242505           CNOR;NORD;AUST;CORS;FRAN;SLOV;SVIZ;COUP;     115.61000   \n",
       "242506           CNOR;NORD;AUST;CORS;FRAN;SLOV;SVIZ;COUP;     115.61000   \n",
       "\n",
       "        Quantita  Prezzo Tipo  \n",
       "0          0.001  800.00  OFF  \n",
       "1          7.500  700.00  OFF  \n",
       "2          0.003  632.00  OFF  \n",
       "3         62.750  499.00  OFF  \n",
       "4        100.000  353.29  OFF  \n",
       "...          ...     ...  ...  \n",
       "242502     0.100   60.00  BID  \n",
       "242503     4.900   11.00  BID  \n",
       "242504     0.002    1.00  BID  \n",
       "242505     1.911    0.00  BID  \n",
       "242506     0.005 -499.00  BID  \n",
       "\n",
       "[242507 rows x 8 columns]"
      ]
     },
     "execution_count": 4,
     "metadata": {},
     "output_type": "execute_result"
    }
   ],
   "source": [
    "df_list = []\n",
    "\n",
    "for date in tqdm(date_range):\n",
    "    \n",
    "    date = date.strftime('%Y%m%d')\n",
    "    file_path = join('data', market + dataset, freq, str(date) + market + dataset + '.xml')\n",
    "    \n",
    "    if not(os.path.exists(file_path)):\n",
    "        print(f\"{file_path} not found\")\n",
    "    else:\n",
    "        df = pd.read_xml(file_path, xpath=f'./{dataset}')\n",
    "    df_list.append(df)\n",
    "\n",
    "ts_df = pd.concat(df_list, ignore_index=True)\n",
    "#format(df)\n",
    "ts_df"
   ]
  },
  {
   "cell_type": "code",
   "execution_count": 5,
   "metadata": {},
   "outputs": [
    {
     "name": "stdout",
     "output_type": "stream",
     "text": [
      "<class 'pandas.core.frame.DataFrame'>\n",
      "RangeIndex: 242507 entries, 0 to 242506\n",
      "Data columns (total 8 columns):\n",
      " #   Column        Non-Null Count   Dtype  \n",
      "---  ------        --------------   -----  \n",
      " 0   Data          242507 non-null  int64  \n",
      " 1   Ora           242507 non-null  int64  \n",
      " 2   Mercato       242507 non-null  object \n",
      " 3   ZonaMercato   242507 non-null  object \n",
      " 4   PrezzoZonale  242507 non-null  float64\n",
      " 5   Quantita      242507 non-null  float64\n",
      " 6   Prezzo        242507 non-null  float64\n",
      " 7   Tipo          242507 non-null  object \n",
      "dtypes: float64(3), int64(2), object(3)\n",
      "memory usage: 14.8+ MB\n"
     ]
    }
   ],
   "source": [
    "ts_df.info()"
   ]
  },
  {
   "cell_type": "code",
   "execution_count": 6,
   "metadata": {},
   "outputs": [
    {
     "data": {
      "text/plain": [
       "Tipo\n",
       "OFF    160181\n",
       "BID     82326\n",
       "Name: count, dtype: int64"
      ]
     },
     "execution_count": 6,
     "metadata": {},
     "output_type": "execute_result"
    }
   ],
   "source": [
    "ts_df.Tipo.value_counts()"
   ]
  },
  {
   "cell_type": "code",
   "execution_count": 7,
   "metadata": {},
   "outputs": [
    {
     "data": {
      "text/plain": [
       "ZonaMercato\n",
       "CALA;CNOR;CSUD;NORD;SARD;SICI;SUD;AUST;COAC;CORS;FRAN;GREC;SLOV;SVIZ;MALT;COUP;MONT;    170232\n",
       "CALA;CNOR;CSUD;SARD;SICI;SUD;COAC;CORS;GREC;MALT;MONT;                                   15187\n",
       "NORD;AUST;FRAN;SLOV;SVIZ;COUP;                                                           14725\n",
       "CNOR;NORD;AUST;CORS;FRAN;SLOV;SVIZ;COUP;                                                 13137\n",
       "CALA;CSUD;SARD;SICI;SUD;COAC;GREC;MALT;MONT;                                             10136\n",
       "CNOR;CSUD;NORD;SARD;AUST;COAC;CORS;FRAN;SLOV;SVIZ;COUP;MONT;                              5796\n",
       "CALA;SICI;SUD;GREC;MALT;                                                                  4371\n",
       "CALA;CNOR;CSUD;NORD;SARD;SICI;SUD;AUST;COAC;CORS;FRAN;GREC;SLOV;SVIZ;COUP;MONT;           1898\n",
       "CSUD;SARD;COAC;MONT;                                                                      1419\n",
       "CNOR;NORD;AUST;FRAN;SLOV;SVIZ;COUP;                                                       1205\n",
       "CALA;CNOR;CSUD;NORD;SICI;SUD;AUST;FRAN;GREC;SLOV;SVIZ;MALT;COUP;MONT;                     1150\n",
       "CALA;CNOR;CSUD;NORD;SARD;SUD;AUST;COAC;CORS;FRAN;GREC;SLOV;SVIZ;COUP;MONT;                1006\n",
       "CALA;CNOR;CSUD;NORD;SICI;SUD;AUST;CORS;FRAN;GREC;SLOV;SVIZ;MALT;COUP;MONT;                 970\n",
       "SARD;COAC;                                                                                 488\n",
       "SICI;MALT;                                                                                 333\n",
       "CSUD;SARD;SUD;COAC;GREC;MONT;                                                              177\n",
       "CNOR;CORS;                                                                                 153\n",
       "CALA;SICI;MALT;                                                                            110\n",
       "MALT;                                                                                       14\n",
       "Name: count, dtype: int64"
      ]
     },
     "execution_count": 7,
     "metadata": {},
     "output_type": "execute_result"
    }
   ],
   "source": [
    "ts_df.ZonaMercato.value_counts()"
   ]
  },
  {
   "cell_type": "code",
   "execution_count": 30,
   "metadata": {},
   "outputs": [],
   "source": [
    "# df = ts_df.loc[(ts_df.Data==20231130)&(ts_df.Ora==9)] # Example of a time when congestion occurs\n",
    "df = ts_df.loc[(ts_df.Data==20231130)&(ts_df.Ora==4)] # Example of a time when no congestion occurs"
   ]
  },
  {
   "cell_type": "code",
   "execution_count": 31,
   "metadata": {},
   "outputs": [
    {
     "data": {
      "text/html": [
       "<div>\n",
       "<style scoped>\n",
       "    .dataframe tbody tr th:only-of-type {\n",
       "        vertical-align: middle;\n",
       "    }\n",
       "\n",
       "    .dataframe tbody tr th {\n",
       "        vertical-align: top;\n",
       "    }\n",
       "\n",
       "    .dataframe thead th {\n",
       "        text-align: right;\n",
       "    }\n",
       "</style>\n",
       "<table border=\"1\" class=\"dataframe\">\n",
       "  <thead>\n",
       "    <tr style=\"text-align: right;\">\n",
       "      <th></th>\n",
       "      <th>PrezzoZonale</th>\n",
       "      <th>ZonaMercato</th>\n",
       "    </tr>\n",
       "  </thead>\n",
       "  <tbody>\n",
       "    <tr>\n",
       "      <th>232677</th>\n",
       "      <td>107.16</td>\n",
       "      <td>CALA;CNOR;CSUD;NORD;SARD;SICI;SUD;AUST;COAC;CO...</td>\n",
       "    </tr>\n",
       "  </tbody>\n",
       "</table>\n",
       "</div>"
      ],
      "text/plain": [
       "        PrezzoZonale                                        ZonaMercato\n",
       "232677        107.16  CALA;CNOR;CSUD;NORD;SARD;SICI;SUD;AUST;COAC;CO..."
      ]
     },
     "execution_count": 31,
     "metadata": {},
     "output_type": "execute_result"
    }
   ],
   "source": [
    "df[['PrezzoZonale', 'ZonaMercato']].drop_duplicates()"
   ]
  },
  {
   "cell_type": "code",
   "execution_count": 32,
   "metadata": {},
   "outputs": [
    {
     "data": {
      "text/html": [
       "<div>\n",
       "<style scoped>\n",
       "    .dataframe tbody tr th:only-of-type {\n",
       "        vertical-align: middle;\n",
       "    }\n",
       "\n",
       "    .dataframe tbody tr th {\n",
       "        vertical-align: top;\n",
       "    }\n",
       "\n",
       "    .dataframe thead th {\n",
       "        text-align: right;\n",
       "    }\n",
       "</style>\n",
       "<table border=\"1\" class=\"dataframe\">\n",
       "  <thead>\n",
       "    <tr style=\"text-align: right;\">\n",
       "      <th></th>\n",
       "      <th>Data</th>\n",
       "      <th>Ora</th>\n",
       "      <th>Mercato</th>\n",
       "      <th>ZonaMercato</th>\n",
       "      <th>PrezzoZonale</th>\n",
       "      <th>Quantita</th>\n",
       "      <th>Prezzo</th>\n",
       "      <th>Tipo</th>\n",
       "      <th>_sorting</th>\n",
       "      <th>_ZonaTipo</th>\n",
       "      <th>cumQuantita</th>\n",
       "    </tr>\n",
       "  </thead>\n",
       "  <tbody>\n",
       "    <tr>\n",
       "      <th>232908</th>\n",
       "      <td>20231130</td>\n",
       "      <td>4</td>\n",
       "      <td>MGP</td>\n",
       "      <td>CALA;CNOR;CSUD;NORD;SARD;SICI;SUD;AUST;COAC;CO...</td>\n",
       "      <td>107.16</td>\n",
       "      <td>15084.490</td>\n",
       "      <td>4000.0</td>\n",
       "      <td>BID</td>\n",
       "      <td>-4000.0</td>\n",
       "      <td>CALA;CNOR;CSUD;NORD;SARD;SICI;SUD;AUST;COAC;CO...</td>\n",
       "      <td>15084.490</td>\n",
       "    </tr>\n",
       "    <tr>\n",
       "      <th>232909</th>\n",
       "      <td>20231130</td>\n",
       "      <td>4</td>\n",
       "      <td>MGP</td>\n",
       "      <td>CALA;CNOR;CSUD;NORD;SARD;SICI;SUD;AUST;COAC;CO...</td>\n",
       "      <td>107.16</td>\n",
       "      <td>2.499</td>\n",
       "      <td>3999.0</td>\n",
       "      <td>BID</td>\n",
       "      <td>-3999.0</td>\n",
       "      <td>CALA;CNOR;CSUD;NORD;SARD;SICI;SUD;AUST;COAC;CO...</td>\n",
       "      <td>15086.989</td>\n",
       "    </tr>\n",
       "    <tr>\n",
       "      <th>232910</th>\n",
       "      <td>20231130</td>\n",
       "      <td>4</td>\n",
       "      <td>MGP</td>\n",
       "      <td>CALA;CNOR;CSUD;NORD;SARD;SICI;SUD;AUST;COAC;CO...</td>\n",
       "      <td>107.16</td>\n",
       "      <td>24.630</td>\n",
       "      <td>3950.0</td>\n",
       "      <td>BID</td>\n",
       "      <td>-3950.0</td>\n",
       "      <td>CALA;CNOR;CSUD;NORD;SARD;SICI;SUD;AUST;COAC;CO...</td>\n",
       "      <td>15111.619</td>\n",
       "    </tr>\n",
       "    <tr>\n",
       "      <th>232911</th>\n",
       "      <td>20231130</td>\n",
       "      <td>4</td>\n",
       "      <td>MGP</td>\n",
       "      <td>CALA;CNOR;CSUD;NORD;SARD;SICI;SUD;AUST;COAC;CO...</td>\n",
       "      <td>107.16</td>\n",
       "      <td>45.560</td>\n",
       "      <td>3500.0</td>\n",
       "      <td>BID</td>\n",
       "      <td>-3500.0</td>\n",
       "      <td>CALA;CNOR;CSUD;NORD;SARD;SICI;SUD;AUST;COAC;CO...</td>\n",
       "      <td>15157.179</td>\n",
       "    </tr>\n",
       "    <tr>\n",
       "      <th>232912</th>\n",
       "      <td>20231130</td>\n",
       "      <td>4</td>\n",
       "      <td>MGP</td>\n",
       "      <td>CALA;CNOR;CSUD;NORD;SARD;SICI;SUD;AUST;COAC;CO...</td>\n",
       "      <td>107.16</td>\n",
       "      <td>4542.895</td>\n",
       "      <td>3000.0</td>\n",
       "      <td>BID</td>\n",
       "      <td>-3000.0</td>\n",
       "      <td>CALA;CNOR;CSUD;NORD;SARD;SICI;SUD;AUST;COAC;CO...</td>\n",
       "      <td>19700.074</td>\n",
       "    </tr>\n",
       "    <tr>\n",
       "      <th>...</th>\n",
       "      <td>...</td>\n",
       "      <td>...</td>\n",
       "      <td>...</td>\n",
       "      <td>...</td>\n",
       "      <td>...</td>\n",
       "      <td>...</td>\n",
       "      <td>...</td>\n",
       "      <td>...</td>\n",
       "      <td>...</td>\n",
       "      <td>...</td>\n",
       "      <td>...</td>\n",
       "    </tr>\n",
       "    <tr>\n",
       "      <th>232681</th>\n",
       "      <td>20231130</td>\n",
       "      <td>4</td>\n",
       "      <td>MGP</td>\n",
       "      <td>CALA;CNOR;CSUD;NORD;SARD;SICI;SUD;AUST;COAC;CO...</td>\n",
       "      <td>107.16</td>\n",
       "      <td>103.000</td>\n",
       "      <td>344.1</td>\n",
       "      <td>OFF</td>\n",
       "      <td>344.1</td>\n",
       "      <td>CALA;CNOR;CSUD;NORD;SARD;SICI;SUD;AUST;COAC;CO...</td>\n",
       "      <td>50499.772</td>\n",
       "    </tr>\n",
       "    <tr>\n",
       "      <th>232680</th>\n",
       "      <td>20231130</td>\n",
       "      <td>4</td>\n",
       "      <td>MGP</td>\n",
       "      <td>CALA;CNOR;CSUD;NORD;SARD;SICI;SUD;AUST;COAC;CO...</td>\n",
       "      <td>107.16</td>\n",
       "      <td>20.000</td>\n",
       "      <td>400.0</td>\n",
       "      <td>OFF</td>\n",
       "      <td>400.0</td>\n",
       "      <td>CALA;CNOR;CSUD;NORD;SARD;SICI;SUD;AUST;COAC;CO...</td>\n",
       "      <td>50519.772</td>\n",
       "    </tr>\n",
       "    <tr>\n",
       "      <th>232679</th>\n",
       "      <td>20231130</td>\n",
       "      <td>4</td>\n",
       "      <td>MGP</td>\n",
       "      <td>CALA;CNOR;CSUD;NORD;SARD;SICI;SUD;AUST;COAC;CO...</td>\n",
       "      <td>107.16</td>\n",
       "      <td>0.003</td>\n",
       "      <td>632.0</td>\n",
       "      <td>OFF</td>\n",
       "      <td>632.0</td>\n",
       "      <td>CALA;CNOR;CSUD;NORD;SARD;SICI;SUD;AUST;COAC;CO...</td>\n",
       "      <td>50519.775</td>\n",
       "    </tr>\n",
       "    <tr>\n",
       "      <th>232678</th>\n",
       "      <td>20231130</td>\n",
       "      <td>4</td>\n",
       "      <td>MGP</td>\n",
       "      <td>CALA;CNOR;CSUD;NORD;SARD;SICI;SUD;AUST;COAC;CO...</td>\n",
       "      <td>107.16</td>\n",
       "      <td>7.500</td>\n",
       "      <td>700.0</td>\n",
       "      <td>OFF</td>\n",
       "      <td>700.0</td>\n",
       "      <td>CALA;CNOR;CSUD;NORD;SARD;SICI;SUD;AUST;COAC;CO...</td>\n",
       "      <td>50527.275</td>\n",
       "    </tr>\n",
       "    <tr>\n",
       "      <th>232677</th>\n",
       "      <td>20231130</td>\n",
       "      <td>4</td>\n",
       "      <td>MGP</td>\n",
       "      <td>CALA;CNOR;CSUD;NORD;SARD;SICI;SUD;AUST;COAC;CO...</td>\n",
       "      <td>107.16</td>\n",
       "      <td>0.001</td>\n",
       "      <td>800.0</td>\n",
       "      <td>OFF</td>\n",
       "      <td>800.0</td>\n",
       "      <td>CALA;CNOR;CSUD;NORD;SARD;SICI;SUD;AUST;COAC;CO...</td>\n",
       "      <td>50527.276</td>\n",
       "    </tr>\n",
       "  </tbody>\n",
       "</table>\n",
       "<p>344 rows × 11 columns</p>\n",
       "</div>"
      ],
      "text/plain": [
       "            Data  Ora Mercato  \\\n",
       "232908  20231130    4     MGP   \n",
       "232909  20231130    4     MGP   \n",
       "232910  20231130    4     MGP   \n",
       "232911  20231130    4     MGP   \n",
       "232912  20231130    4     MGP   \n",
       "...          ...  ...     ...   \n",
       "232681  20231130    4     MGP   \n",
       "232680  20231130    4     MGP   \n",
       "232679  20231130    4     MGP   \n",
       "232678  20231130    4     MGP   \n",
       "232677  20231130    4     MGP   \n",
       "\n",
       "                                              ZonaMercato  PrezzoZonale  \\\n",
       "232908  CALA;CNOR;CSUD;NORD;SARD;SICI;SUD;AUST;COAC;CO...        107.16   \n",
       "232909  CALA;CNOR;CSUD;NORD;SARD;SICI;SUD;AUST;COAC;CO...        107.16   \n",
       "232910  CALA;CNOR;CSUD;NORD;SARD;SICI;SUD;AUST;COAC;CO...        107.16   \n",
       "232911  CALA;CNOR;CSUD;NORD;SARD;SICI;SUD;AUST;COAC;CO...        107.16   \n",
       "232912  CALA;CNOR;CSUD;NORD;SARD;SICI;SUD;AUST;COAC;CO...        107.16   \n",
       "...                                                   ...           ...   \n",
       "232681  CALA;CNOR;CSUD;NORD;SARD;SICI;SUD;AUST;COAC;CO...        107.16   \n",
       "232680  CALA;CNOR;CSUD;NORD;SARD;SICI;SUD;AUST;COAC;CO...        107.16   \n",
       "232679  CALA;CNOR;CSUD;NORD;SARD;SICI;SUD;AUST;COAC;CO...        107.16   \n",
       "232678  CALA;CNOR;CSUD;NORD;SARD;SICI;SUD;AUST;COAC;CO...        107.16   \n",
       "232677  CALA;CNOR;CSUD;NORD;SARD;SICI;SUD;AUST;COAC;CO...        107.16   \n",
       "\n",
       "         Quantita  Prezzo Tipo  _sorting  \\\n",
       "232908  15084.490  4000.0  BID   -4000.0   \n",
       "232909      2.499  3999.0  BID   -3999.0   \n",
       "232910     24.630  3950.0  BID   -3950.0   \n",
       "232911     45.560  3500.0  BID   -3500.0   \n",
       "232912   4542.895  3000.0  BID   -3000.0   \n",
       "...           ...     ...  ...       ...   \n",
       "232681    103.000   344.1  OFF     344.1   \n",
       "232680     20.000   400.0  OFF     400.0   \n",
       "232679      0.003   632.0  OFF     632.0   \n",
       "232678      7.500   700.0  OFF     700.0   \n",
       "232677      0.001   800.0  OFF     800.0   \n",
       "\n",
       "                                                _ZonaTipo  cumQuantita  \n",
       "232908  CALA;CNOR;CSUD;NORD;SARD;SICI;SUD;AUST;COAC;CO...    15084.490  \n",
       "232909  CALA;CNOR;CSUD;NORD;SARD;SICI;SUD;AUST;COAC;CO...    15086.989  \n",
       "232910  CALA;CNOR;CSUD;NORD;SARD;SICI;SUD;AUST;COAC;CO...    15111.619  \n",
       "232911  CALA;CNOR;CSUD;NORD;SARD;SICI;SUD;AUST;COAC;CO...    15157.179  \n",
       "232912  CALA;CNOR;CSUD;NORD;SARD;SICI;SUD;AUST;COAC;CO...    19700.074  \n",
       "...                                                   ...          ...  \n",
       "232681  CALA;CNOR;CSUD;NORD;SARD;SICI;SUD;AUST;COAC;CO...    50499.772  \n",
       "232680  CALA;CNOR;CSUD;NORD;SARD;SICI;SUD;AUST;COAC;CO...    50519.772  \n",
       "232679  CALA;CNOR;CSUD;NORD;SARD;SICI;SUD;AUST;COAC;CO...    50519.775  \n",
       "232678  CALA;CNOR;CSUD;NORD;SARD;SICI;SUD;AUST;COAC;CO...    50527.275  \n",
       "232677  CALA;CNOR;CSUD;NORD;SARD;SICI;SUD;AUST;COAC;CO...    50527.276  \n",
       "\n",
       "[344 rows x 11 columns]"
      ]
     },
     "execution_count": 32,
     "metadata": {},
     "output_type": "execute_result"
    }
   ],
   "source": [
    "df.loc[:,'_sorting'] = df.Prezzo\n",
    "df.loc[df.Tipo == 'BID', '_sorting'] = -df._sorting\n",
    "df.sort_values(by=['ZonaMercato', 'Tipo', '_sorting'], inplace=True)\n",
    "df['_ZonaTipo'] = df['ZonaMercato'] + df['Tipo'] \n",
    "df['cumQuantita'] = df.groupby('_ZonaTipo')['Quantita'].cumsum()\n",
    "# df['cumQuantita'] = df.groupby(['ZonaMercato', 'Tipo'])['Quantita'].cumsum()\n",
    "df"
   ]
  },
  {
   "cell_type": "code",
   "execution_count": 33,
   "metadata": {},
   "outputs": [
    {
     "data": {
      "application/vnd.plotly.v1+json": {
       "config": {
        "plotlyServerURL": "https://plot.ly"
       },
       "data": [
        {
         "hovertemplate": "ZonaMercato=CALA;CNOR;CSUD;NORD;SARD;SICI;SUD;AUST;COAC;CORS;FRAN;GREC;SLOV;SVIZ;MALT;COUP;MONT;<br>_ZonaTipo=CALA;CNOR;CSUD;NORD;SARD;SICI;SUD;AUST;COAC;CORS;FRAN;GREC;SLOV;SVIZ;MALT;COUP;MONT;BID<br>cumQuantita=%{x}<br>Prezzo=%{y}<extra></extra>",
         "legendgroup": "CALA;CNOR;CSUD;NORD;SARD;SICI;SUD;AUST;COAC;CORS;FRAN;GREC;SLOV;SVIZ;MALT;COUP;MONT;",
         "line": {
          "color": "#636efa",
          "dash": "solid",
          "shape": "hv"
         },
         "marker": {
          "symbol": "circle"
         },
         "mode": "lines",
         "name": "CALA;CNOR;CSUD;NORD;SARD;SICI;SUD;AUST;COAC;CORS;FRAN;GREC;SLOV;SVIZ;MALT;COUP;MONT;",
         "orientation": "v",
         "showlegend": true,
         "type": "scatter",
         "x": [
          15084.49,
          15086.989,
          15111.619,
          15157.179,
          19700.074,
          19713.017,
          19785.577,
          20196.148,
          21165.859,
          21345.336,
          21350.011000000002,
          22266.281,
          22333.716,
          22342.488,
          22366.488,
          22374.683,
          22728.818,
          22770.189000000002,
          22834.008,
          22834.308,
          23212.147,
          23213.006,
          23213.994000000002,
          23578.361,
          23635.510000000002,
          23636.076,
          23899.84,
          24180.772,
          24646.149,
          24676.608,
          24683.108,
          24683.458000000002,
          24733.458000000002,
          24737.633,
          24823.786,
          24862.786,
          24899.286,
          24922.181,
          24955.181,
          24959.951,
          24967.842,
          24968.843,
          24972.493000000002,
          24991.405,
          25006.405,
          25025.414,
          25050.414,
          25102.71,
          25115.21,
          25140.61,
          25140.642,
          25186.418,
          25211.418,
          25223.918,
          25224.71,
          25224.81,
          25224.91,
          25227.91,
          25228.010000000002,
          25228.11,
          25248.21,
          25248.31,
          25248.41,
          25248.510000000002,
          25248.61,
          25248.71,
          25258.71,
          25258.81,
          25258.91,
          25259.010000000002,
          25259.11,
          25360.11,
          25380.21,
          25380.31,
          25382.690000000002,
          25382.79,
          25382.89,
          25493.89,
          25523.99,
          25533.99,
          25534.09,
          25534.190000000002,
          25544.190000000002,
          25556.190000000002,
          25596.190000000002,
          25596.29,
          25596.39,
          25599.39,
          25704.49,
          25710.49,
          25710.59,
          25710.737,
          25710.837,
          25759.237,
          25773.237,
          25811.337,
          25811.437,
          25814.437,
          25835.437,
          25888.748,
          25912.106,
          25915.106,
          25949.106,
          26023.106,
          26077.542,
          26077.642,
          26080.642,
          26080.723,
          26083.723,
          26090.323,
          26090.33,
          26092.71,
          26092.73
         ],
         "xaxis": "x",
         "y": [
          4000,
          3999,
          3950,
          3500,
          3000,
          2500,
          2000,
          1500,
          1100,
          1000,
          999,
          900,
          853,
          850,
          791,
          777,
          761.09,
          700,
          650,
          600,
          500,
          460.63,
          450,
          400,
          350,
          311,
          310,
          308.53,
          300,
          274.5,
          270,
          254.76,
          253,
          250,
          244.03,
          234.01,
          213.5,
          200.22,
          200,
          190.8,
          184.03,
          181.28,
          180.7,
          140,
          135,
          133.17,
          132.9,
          132.44,
          130.9,
          130,
          129.9,
          128.17,
          125.9,
          123.9,
          122.54,
          122.08,
          120.08,
          120,
          118.08,
          116.08,
          115,
          114.08,
          113,
          112.08,
          111,
          110.08,
          110,
          109,
          108.08,
          107,
          106.08,
          105.1,
          105,
          104.08,
          103.17,
          103,
          102.08,
          101.73,
          101,
          100.42,
          100.08,
          99,
          98.9,
          97.9,
          97.59,
          97,
          96.08,
          95.85,
          95,
          93.9,
          93,
          92.44,
          91,
          90,
          89.9,
          89,
          88.08,
          87.44,
          86.3,
          83.44,
          83.17,
          77.85,
          70,
          67.8,
          67.44,
          60,
          59.85,
          42.44,
          41.85,
          11,
          1,
          0,
          -499
         ],
         "yaxis": "y"
        },
        {
         "hovertemplate": "ZonaMercato=CALA;CNOR;CSUD;NORD;SARD;SICI;SUD;AUST;COAC;CORS;FRAN;GREC;SLOV;SVIZ;MALT;COUP;MONT;<br>_ZonaTipo=CALA;CNOR;CSUD;NORD;SARD;SICI;SUD;AUST;COAC;CORS;FRAN;GREC;SLOV;SVIZ;MALT;COUP;MONT;OFF<br>cumQuantita=%{x}<br>Prezzo=%{y}<extra></extra>",
         "legendgroup": "CALA;CNOR;CSUD;NORD;SARD;SICI;SUD;AUST;COAC;CORS;FRAN;GREC;SLOV;SVIZ;MALT;COUP;MONT;",
         "line": {
          "color": "#636efa",
          "dash": "solid",
          "shape": "hv"
         },
         "marker": {
          "symbol": "circle"
         },
         "mode": "lines",
         "name": "CALA;CNOR;CSUD;NORD;SARD;SICI;SUD;AUST;COAC;CORS;FRAN;GREC;SLOV;SVIZ;MALT;COUP;MONT;",
         "orientation": "v",
         "showlegend": false,
         "type": "scatter",
         "x": [
          893.722,
          1131.672,
          1474.6,
          1477.1,
          1787.25,
          1832.133,
          2281.6839999999997,
          2419.064,
          2511.864,
          2953.7219999999998,
          3163.132,
          3167.132,
          18262.962,
          18551.203,
          18555.328,
          18580.903,
          18629.826,
          19416.615999999998,
          19587.513,
          19590.536,
          19655.536,
          19707.929,
          19707.998,
          19708.001,
          19723.595999999998,
          19734.326,
          19737.164,
          19741.664,
          19754.264,
          19778.498,
          19851.507999999998,
          19860.858,
          19866.102,
          19872.245,
          19877.63,
          19885.136,
          19973.136,
          20068.036,
          20102.328,
          20102.347999999998,
          20110.131,
          20128.131,
          20144.267,
          20148.632999999998,
          20149.808,
          20160.932,
          20162.064,
          20164.328999999998,
          20165.658,
          20172.466,
          20219.452,
          20220.834,
          20280.834,
          20283.734,
          20284.298,
          20286.081,
          20336.081,
          20396.081,
          20415.964,
          20440.964,
          20526.964,
          20675.717,
          20882.717,
          21078.717,
          21208.217,
          21268.217,
          21288.217,
          21348.217,
          21364.657,
          21625.657,
          21685.657,
          21785.657,
          21874.657,
          21924.656,
          21931.656,
          21943.756,
          22068.898,
          22134.898,
          22140.898,
          22143.097999999998,
          22153.235,
          22155.98,
          22161.98,
          22167.98,
          22183.98,
          22258.98,
          22434.38,
          22654.18,
          22661.18,
          22668.18,
          22813.18,
          22881.18,
          23052.48,
          23077.48,
          23084.893,
          23159.893,
          23179.857,
          23195.857,
          23401.471999999998,
          23411.452,
          23477.452,
          23644.952,
          23669.011,
          23737.011,
          23818.011,
          23886.011,
          23902.011,
          23977.011,
          23993.011,
          24062.011,
          24096.013,
          24173.013,
          24353.013,
          24363.013,
          24438.013,
          24449.213,
          24519.246,
          24595.246,
          24814.246,
          25144.246,
          25405.246,
          25765.246,
          25785.246,
          26001.246,
          26015.246,
          26215.246,
          26366.246,
          26378.646,
          26545.646,
          26553.389,
          26727.389,
          26901.389,
          27059.389,
          27242.189,
          27460.189,
          27543.189,
          27918.189,
          27947.407,
          28401.907,
          28498.655,
          29223.655,
          29645.555,
          30005.555,
          30015.471,
          30385.471,
          30427.371,
          30508.371,
          30602.371,
          30962.371,
          31054.487,
          31065.487,
          31225.487,
          31234.487,
          31244.487,
          31266.787,
          31291.686999999998,
          31299.186999999998,
          31318.186999999998,
          31333.186999999998,
          31703.186999999998,
          31753.185999999998,
          31908.279,
          31915.779,
          31933.779,
          31975.879,
          32011.879,
          32061.879,
          32178.879,
          32198.879,
          32318.879,
          32364.599,
          32424.599,
          32509.599,
          32563.599,
          32653.384,
          32707.3,
          32779.3,
          32800,
          32909.562,
          32945.244,
          33048.244,
          33158.244,
          33194.744,
          33544.744,
          33607.744,
          33630.644,
          33850.644,
          33918.644,
          33938.644,
          34038.644,
          34078.644,
          34228.644,
          34474.644,
          34628.644,
          34759.544,
          35115.744,
          35156.844,
          35351.044,
          35534.044,
          35662.744,
          36398.144,
          36442.909999999996,
          36586.11,
          36658.11,
          36693.61,
          36695.61,
          38602.61,
          38614.61,
          38981.61,
          39111.61,
          39120.909999999996,
          39275.909999999996,
          39325.909999999996,
          39613.909999999996,
          40321.11,
          41088.464,
          41106.764,
          41447.964,
          41612.522,
          45457.672,
          45567.472,
          45637.472,
          47957.472,
          47971.772,
          47991.772,
          50396.772,
          50499.772,
          50519.772,
          50519.775,
          50527.275,
          50527.276
         ],
         "xaxis": "x",
         "y": [
          -500,
          -150,
          -100,
          -50,
          -11,
          -10,
          -5.5,
          -5,
          -2,
          -1,
          -0.65,
          -0.5,
          0,
          0.01,
          0.05,
          0.1,
          0.2,
          1,
          3,
          3.99,
          4,
          5,
          5.28,
          6,
          9.01,
          9.31,
          9.91,
          10.8,
          11,
          14.44,
          15.5,
          15.72,
          19,
          19.47,
          19.65,
          19.79,
          20,
          23.4,
          24.22,
          25,
          26.19,
          30,
          31,
          39.35,
          44.68,
          44.77,
          44.86,
          48.54,
          49.65,
          49.67,
          50,
          69.2,
          70,
          72.06,
          74.23,
          74.28,
          74.99,
          75,
          77.18,
          78.4,
          80,
          83.17,
          84.31,
          84.5,
          85,
          87,
          88.66,
          89,
          89.83,
          90,
          91,
          93,
          95,
          96.53,
          98.38,
          98.97,
          100,
          101.86,
          102.08,
          102.2,
          102.6,
          103.67,
          104.08,
          106.08,
          106.7,
          106.91,
          106.98,
          107.16,
          108.08,
          108.1,
          108.38,
          108.51,
          108.94,
          109.2,
          110,
          110.41,
          111,
          111.1,
          111.9,
          113.19,
          114.39,
          115.02,
          115.08,
          115.39,
          115.8,
          116.2,
          116.7,
          116.99,
          117.12,
          117.2,
          117.47,
          117.99,
          118.71,
          118.72,
          119.02,
          119.3,
          120,
          120.02,
          120.59,
          121.53,
          121.66,
          121.71,
          122.09,
          122.13,
          122.4,
          122.55,
          122.6,
          123,
          124.55,
          125,
          125.3,
          125.6,
          126.89,
          127,
          127.42,
          127.75,
          127.96,
          128.12,
          128.19,
          129,
          129.03,
          129.41,
          129.63,
          130,
          130.04,
          130.3,
          132.17,
          132.61,
          132.64,
          133.17,
          134.09,
          134.16,
          135,
          137.68,
          140,
          144.4,
          144.9,
          146,
          146.22,
          146.36,
          147.53,
          150,
          151.9,
          152,
          153,
          156,
          157,
          160,
          163,
          163.2,
          163.5,
          164,
          165,
          166.5,
          167.3,
          168.1,
          168.2,
          168.22,
          170,
          170.1,
          170.72,
          172.09,
          173,
          173.5,
          175.86,
          178,
          180,
          181,
          185,
          188,
          190,
          195,
          198,
          199,
          200,
          200.1,
          202,
          205,
          205.1,
          210,
          210.1,
          214.1,
          220,
          222.27,
          226.5,
          230.93,
          231,
          234.01,
          235,
          235.1,
          237,
          240,
          240.1,
          244.14,
          245.1,
          250,
          251.7,
          255.1,
          259.4,
          260.4,
          261.16,
          267,
          269.4,
          270,
          273,
          304,
          344.1,
          400,
          632,
          700,
          800
         ],
         "yaxis": "y"
        }
       ],
       "layout": {
        "height": 800,
        "legend": {
         "orientation": "h",
         "title": {
          "text": "ZonaMercato"
         },
         "tracegroupgap": 0,
         "x": 0,
         "xanchor": "left",
         "y": 1.06,
         "yanchor": "top"
        },
        "template": {
         "data": {
          "bar": [
           {
            "error_x": {
             "color": "#2a3f5f"
            },
            "error_y": {
             "color": "#2a3f5f"
            },
            "marker": {
             "line": {
              "color": "#E5ECF6",
              "width": 0.5
             },
             "pattern": {
              "fillmode": "overlay",
              "size": 10,
              "solidity": 0.2
             }
            },
            "type": "bar"
           }
          ],
          "barpolar": [
           {
            "marker": {
             "line": {
              "color": "#E5ECF6",
              "width": 0.5
             },
             "pattern": {
              "fillmode": "overlay",
              "size": 10,
              "solidity": 0.2
             }
            },
            "type": "barpolar"
           }
          ],
          "carpet": [
           {
            "aaxis": {
             "endlinecolor": "#2a3f5f",
             "gridcolor": "white",
             "linecolor": "white",
             "minorgridcolor": "white",
             "startlinecolor": "#2a3f5f"
            },
            "baxis": {
             "endlinecolor": "#2a3f5f",
             "gridcolor": "white",
             "linecolor": "white",
             "minorgridcolor": "white",
             "startlinecolor": "#2a3f5f"
            },
            "type": "carpet"
           }
          ],
          "choropleth": [
           {
            "colorbar": {
             "outlinewidth": 0,
             "ticks": ""
            },
            "type": "choropleth"
           }
          ],
          "contour": [
           {
            "colorbar": {
             "outlinewidth": 0,
             "ticks": ""
            },
            "colorscale": [
             [
              0,
              "#0d0887"
             ],
             [
              0.1111111111111111,
              "#46039f"
             ],
             [
              0.2222222222222222,
              "#7201a8"
             ],
             [
              0.3333333333333333,
              "#9c179e"
             ],
             [
              0.4444444444444444,
              "#bd3786"
             ],
             [
              0.5555555555555556,
              "#d8576b"
             ],
             [
              0.6666666666666666,
              "#ed7953"
             ],
             [
              0.7777777777777778,
              "#fb9f3a"
             ],
             [
              0.8888888888888888,
              "#fdca26"
             ],
             [
              1,
              "#f0f921"
             ]
            ],
            "type": "contour"
           }
          ],
          "contourcarpet": [
           {
            "colorbar": {
             "outlinewidth": 0,
             "ticks": ""
            },
            "type": "contourcarpet"
           }
          ],
          "heatmap": [
           {
            "colorbar": {
             "outlinewidth": 0,
             "ticks": ""
            },
            "colorscale": [
             [
              0,
              "#0d0887"
             ],
             [
              0.1111111111111111,
              "#46039f"
             ],
             [
              0.2222222222222222,
              "#7201a8"
             ],
             [
              0.3333333333333333,
              "#9c179e"
             ],
             [
              0.4444444444444444,
              "#bd3786"
             ],
             [
              0.5555555555555556,
              "#d8576b"
             ],
             [
              0.6666666666666666,
              "#ed7953"
             ],
             [
              0.7777777777777778,
              "#fb9f3a"
             ],
             [
              0.8888888888888888,
              "#fdca26"
             ],
             [
              1,
              "#f0f921"
             ]
            ],
            "type": "heatmap"
           }
          ],
          "heatmapgl": [
           {
            "colorbar": {
             "outlinewidth": 0,
             "ticks": ""
            },
            "colorscale": [
             [
              0,
              "#0d0887"
             ],
             [
              0.1111111111111111,
              "#46039f"
             ],
             [
              0.2222222222222222,
              "#7201a8"
             ],
             [
              0.3333333333333333,
              "#9c179e"
             ],
             [
              0.4444444444444444,
              "#bd3786"
             ],
             [
              0.5555555555555556,
              "#d8576b"
             ],
             [
              0.6666666666666666,
              "#ed7953"
             ],
             [
              0.7777777777777778,
              "#fb9f3a"
             ],
             [
              0.8888888888888888,
              "#fdca26"
             ],
             [
              1,
              "#f0f921"
             ]
            ],
            "type": "heatmapgl"
           }
          ],
          "histogram": [
           {
            "marker": {
             "pattern": {
              "fillmode": "overlay",
              "size": 10,
              "solidity": 0.2
             }
            },
            "type": "histogram"
           }
          ],
          "histogram2d": [
           {
            "colorbar": {
             "outlinewidth": 0,
             "ticks": ""
            },
            "colorscale": [
             [
              0,
              "#0d0887"
             ],
             [
              0.1111111111111111,
              "#46039f"
             ],
             [
              0.2222222222222222,
              "#7201a8"
             ],
             [
              0.3333333333333333,
              "#9c179e"
             ],
             [
              0.4444444444444444,
              "#bd3786"
             ],
             [
              0.5555555555555556,
              "#d8576b"
             ],
             [
              0.6666666666666666,
              "#ed7953"
             ],
             [
              0.7777777777777778,
              "#fb9f3a"
             ],
             [
              0.8888888888888888,
              "#fdca26"
             ],
             [
              1,
              "#f0f921"
             ]
            ],
            "type": "histogram2d"
           }
          ],
          "histogram2dcontour": [
           {
            "colorbar": {
             "outlinewidth": 0,
             "ticks": ""
            },
            "colorscale": [
             [
              0,
              "#0d0887"
             ],
             [
              0.1111111111111111,
              "#46039f"
             ],
             [
              0.2222222222222222,
              "#7201a8"
             ],
             [
              0.3333333333333333,
              "#9c179e"
             ],
             [
              0.4444444444444444,
              "#bd3786"
             ],
             [
              0.5555555555555556,
              "#d8576b"
             ],
             [
              0.6666666666666666,
              "#ed7953"
             ],
             [
              0.7777777777777778,
              "#fb9f3a"
             ],
             [
              0.8888888888888888,
              "#fdca26"
             ],
             [
              1,
              "#f0f921"
             ]
            ],
            "type": "histogram2dcontour"
           }
          ],
          "mesh3d": [
           {
            "colorbar": {
             "outlinewidth": 0,
             "ticks": ""
            },
            "type": "mesh3d"
           }
          ],
          "parcoords": [
           {
            "line": {
             "colorbar": {
              "outlinewidth": 0,
              "ticks": ""
             }
            },
            "type": "parcoords"
           }
          ],
          "pie": [
           {
            "automargin": true,
            "type": "pie"
           }
          ],
          "scatter": [
           {
            "fillpattern": {
             "fillmode": "overlay",
             "size": 10,
             "solidity": 0.2
            },
            "type": "scatter"
           }
          ],
          "scatter3d": [
           {
            "line": {
             "colorbar": {
              "outlinewidth": 0,
              "ticks": ""
             }
            },
            "marker": {
             "colorbar": {
              "outlinewidth": 0,
              "ticks": ""
             }
            },
            "type": "scatter3d"
           }
          ],
          "scattercarpet": [
           {
            "marker": {
             "colorbar": {
              "outlinewidth": 0,
              "ticks": ""
             }
            },
            "type": "scattercarpet"
           }
          ],
          "scattergeo": [
           {
            "marker": {
             "colorbar": {
              "outlinewidth": 0,
              "ticks": ""
             }
            },
            "type": "scattergeo"
           }
          ],
          "scattergl": [
           {
            "marker": {
             "colorbar": {
              "outlinewidth": 0,
              "ticks": ""
             }
            },
            "type": "scattergl"
           }
          ],
          "scattermapbox": [
           {
            "marker": {
             "colorbar": {
              "outlinewidth": 0,
              "ticks": ""
             }
            },
            "type": "scattermapbox"
           }
          ],
          "scatterpolar": [
           {
            "marker": {
             "colorbar": {
              "outlinewidth": 0,
              "ticks": ""
             }
            },
            "type": "scatterpolar"
           }
          ],
          "scatterpolargl": [
           {
            "marker": {
             "colorbar": {
              "outlinewidth": 0,
              "ticks": ""
             }
            },
            "type": "scatterpolargl"
           }
          ],
          "scatterternary": [
           {
            "marker": {
             "colorbar": {
              "outlinewidth": 0,
              "ticks": ""
             }
            },
            "type": "scatterternary"
           }
          ],
          "surface": [
           {
            "colorbar": {
             "outlinewidth": 0,
             "ticks": ""
            },
            "colorscale": [
             [
              0,
              "#0d0887"
             ],
             [
              0.1111111111111111,
              "#46039f"
             ],
             [
              0.2222222222222222,
              "#7201a8"
             ],
             [
              0.3333333333333333,
              "#9c179e"
             ],
             [
              0.4444444444444444,
              "#bd3786"
             ],
             [
              0.5555555555555556,
              "#d8576b"
             ],
             [
              0.6666666666666666,
              "#ed7953"
             ],
             [
              0.7777777777777778,
              "#fb9f3a"
             ],
             [
              0.8888888888888888,
              "#fdca26"
             ],
             [
              1,
              "#f0f921"
             ]
            ],
            "type": "surface"
           }
          ],
          "table": [
           {
            "cells": {
             "fill": {
              "color": "#EBF0F8"
             },
             "line": {
              "color": "white"
             }
            },
            "header": {
             "fill": {
              "color": "#C8D4E3"
             },
             "line": {
              "color": "white"
             }
            },
            "type": "table"
           }
          ]
         },
         "layout": {
          "annotationdefaults": {
           "arrowcolor": "#2a3f5f",
           "arrowhead": 0,
           "arrowwidth": 1
          },
          "autotypenumbers": "strict",
          "coloraxis": {
           "colorbar": {
            "outlinewidth": 0,
            "ticks": ""
           }
          },
          "colorscale": {
           "diverging": [
            [
             0,
             "#8e0152"
            ],
            [
             0.1,
             "#c51b7d"
            ],
            [
             0.2,
             "#de77ae"
            ],
            [
             0.3,
             "#f1b6da"
            ],
            [
             0.4,
             "#fde0ef"
            ],
            [
             0.5,
             "#f7f7f7"
            ],
            [
             0.6,
             "#e6f5d0"
            ],
            [
             0.7,
             "#b8e186"
            ],
            [
             0.8,
             "#7fbc41"
            ],
            [
             0.9,
             "#4d9221"
            ],
            [
             1,
             "#276419"
            ]
           ],
           "sequential": [
            [
             0,
             "#0d0887"
            ],
            [
             0.1111111111111111,
             "#46039f"
            ],
            [
             0.2222222222222222,
             "#7201a8"
            ],
            [
             0.3333333333333333,
             "#9c179e"
            ],
            [
             0.4444444444444444,
             "#bd3786"
            ],
            [
             0.5555555555555556,
             "#d8576b"
            ],
            [
             0.6666666666666666,
             "#ed7953"
            ],
            [
             0.7777777777777778,
             "#fb9f3a"
            ],
            [
             0.8888888888888888,
             "#fdca26"
            ],
            [
             1,
             "#f0f921"
            ]
           ],
           "sequentialminus": [
            [
             0,
             "#0d0887"
            ],
            [
             0.1111111111111111,
             "#46039f"
            ],
            [
             0.2222222222222222,
             "#7201a8"
            ],
            [
             0.3333333333333333,
             "#9c179e"
            ],
            [
             0.4444444444444444,
             "#bd3786"
            ],
            [
             0.5555555555555556,
             "#d8576b"
            ],
            [
             0.6666666666666666,
             "#ed7953"
            ],
            [
             0.7777777777777778,
             "#fb9f3a"
            ],
            [
             0.8888888888888888,
             "#fdca26"
            ],
            [
             1,
             "#f0f921"
            ]
           ]
          },
          "colorway": [
           "#636efa",
           "#EF553B",
           "#00cc96",
           "#ab63fa",
           "#FFA15A",
           "#19d3f3",
           "#FF6692",
           "#B6E880",
           "#FF97FF",
           "#FECB52"
          ],
          "font": {
           "color": "#2a3f5f"
          },
          "geo": {
           "bgcolor": "white",
           "lakecolor": "white",
           "landcolor": "#E5ECF6",
           "showlakes": true,
           "showland": true,
           "subunitcolor": "white"
          },
          "hoverlabel": {
           "align": "left"
          },
          "hovermode": "closest",
          "mapbox": {
           "style": "light"
          },
          "paper_bgcolor": "white",
          "plot_bgcolor": "#E5ECF6",
          "polar": {
           "angularaxis": {
            "gridcolor": "white",
            "linecolor": "white",
            "ticks": ""
           },
           "bgcolor": "#E5ECF6",
           "radialaxis": {
            "gridcolor": "white",
            "linecolor": "white",
            "ticks": ""
           }
          },
          "scene": {
           "xaxis": {
            "backgroundcolor": "#E5ECF6",
            "gridcolor": "white",
            "gridwidth": 2,
            "linecolor": "white",
            "showbackground": true,
            "ticks": "",
            "zerolinecolor": "white"
           },
           "yaxis": {
            "backgroundcolor": "#E5ECF6",
            "gridcolor": "white",
            "gridwidth": 2,
            "linecolor": "white",
            "showbackground": true,
            "ticks": "",
            "zerolinecolor": "white"
           },
           "zaxis": {
            "backgroundcolor": "#E5ECF6",
            "gridcolor": "white",
            "gridwidth": 2,
            "linecolor": "white",
            "showbackground": true,
            "ticks": "",
            "zerolinecolor": "white"
           }
          },
          "shapedefaults": {
           "line": {
            "color": "#2a3f5f"
           }
          },
          "ternary": {
           "aaxis": {
            "gridcolor": "white",
            "linecolor": "white",
            "ticks": ""
           },
           "baxis": {
            "gridcolor": "white",
            "linecolor": "white",
            "ticks": ""
           },
           "bgcolor": "#E5ECF6",
           "caxis": {
            "gridcolor": "white",
            "linecolor": "white",
            "ticks": ""
           }
          },
          "title": {
           "x": 0.05
          },
          "xaxis": {
           "automargin": true,
           "gridcolor": "white",
           "linecolor": "white",
           "ticks": "",
           "title": {
            "standoff": 15
           },
           "zerolinecolor": "white",
           "zerolinewidth": 2
          },
          "yaxis": {
           "automargin": true,
           "gridcolor": "white",
           "linecolor": "white",
           "ticks": "",
           "title": {
            "standoff": 15
           },
           "zerolinecolor": "white",
           "zerolinewidth": 2
          }
         }
        },
        "title": {
         "text": "Supply and Demand Curves"
        },
        "width": 1200,
        "xaxis": {
         "anchor": "y",
         "domain": [
          0,
          1
         ],
         "title": {
          "text": "Cumulative volume (MWh)"
         }
        },
        "yaxis": {
         "anchor": "x",
         "domain": [
          0,
          1
         ],
         "title": {
          "text": "Price (€/MWh)"
         }
        }
       }
      }
     },
     "metadata": {},
     "output_type": "display_data"
    }
   ],
   "source": [
    "fig = px.line(\n",
    "    df,\n",
    "    x = 'cumQuantita',\n",
    "    y = 'Prezzo',\n",
    "    line_group = '_ZonaTipo',\n",
    "    color = 'ZonaMercato',\n",
    "    title = 'Supply and Demand Curves',\n",
    "    height = 800,\n",
    "    width = 1200,\n",
    "    line_shape = 'hv'\n",
    ")\n",
    "\n",
    "fig.update_xaxes(title_text='Cumulative volume (MWh)')\n",
    "fig.update_yaxes(title_text='Price (€/MWh)')\n",
    "fig.update_layout(legend=dict(orientation=\"h\", yanchor=\"top\", y=1.06, xanchor=\"left\", x=0))\n",
    "fig.show()"
   ]
  },
  {
   "cell_type": "code",
   "execution_count": null,
   "metadata": {},
   "outputs": [],
   "source": []
  }
 ],
 "metadata": {
  "kernelspec": {
   "display_name": "EPF",
   "language": "python",
   "name": "python3"
  },
  "language_info": {
   "codemirror_mode": {
    "name": "ipython",
    "version": 3
   },
   "file_extension": ".py",
   "mimetype": "text/x-python",
   "name": "python",
   "nbconvert_exporter": "python",
   "pygments_lexer": "ipython3",
   "version": "3.11.3"
  }
 },
 "nbformat": 4,
 "nbformat_minor": 2
}
